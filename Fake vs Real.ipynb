{
 "cells": [
  {
   "cell_type": "code",
   "execution_count": 1,
   "metadata": {},
   "outputs": [],
   "source": [
    "import matplotlib.pyplot as plt\n",
    "import numpy as np\n",
    "import os\n",
    "import PIL\n",
    "import tensorflow as tf\n",
    "\n",
    "from tensorflow import keras\n",
    "from tensorflow.keras import layers\n",
    "from tensorflow.keras.models import Sequential"
   ]
  },
  {
   "cell_type": "code",
   "execution_count": 2,
   "metadata": {},
   "outputs": [],
   "source": [
    "#Verify gpu is being used\n",
    "#print(\"Num GPUs Available: \", len(tf.config.list_physical_devices('GPU')))"
   ]
  },
  {
   "cell_type": "code",
   "execution_count": 3,
   "metadata": {},
   "outputs": [],
   "source": [
    "#Paths to datasets\n",
    "import pathlib\n",
    "data_dir = pathlib.Path(pathlib.Path.cwd()) / \"datasets\"\n",
    "data1_dir = data_dir / \"data1\"\n",
    "data2_dir = data_dir / \"data2\"\n",
    "data3_dir = data_dir / \"data3\"\n",
    "test_data_dir = data_dir / \"test\"\n",
    "#print(data_dir)\n",
    "#print(data1_dir)\n",
    "#print(data2_dir)\n",
    "#print(data3_dir)\n",
    "#print(test_data_dir)"
   ]
  },
  {
   "cell_type": "code",
   "execution_count": 4,
   "metadata": {},
   "outputs": [],
   "source": [
    "#Parameters for datasets\n",
    "batch_size = 32\n",
    "img_height = 256\n",
    "img_width = 256\n",
    "model_seed = 5151\n",
    "validation_split = .2"
   ]
  },
  {
   "cell_type": "code",
   "execution_count": 5,
   "metadata": {},
   "outputs": [
    {
     "name": "stdout",
     "output_type": "stream",
     "text": [
      "Found 1289 files belonging to 2 classes.\n",
      "Using 1032 files for training.\n",
      "Found 1289 files belonging to 2 classes.\n",
      "Using 257 files for validation.\n"
     ]
    }
   ],
   "source": [
    "#Datasets for training from 1st dataset\n",
    "\n",
    "train_ds1 = tf.keras.utils.image_dataset_from_directory(\n",
    "data1_dir,\n",
    "validation_split=validation_split,\n",
    "subset=\"training\",\n",
    "seed=model_seed,\n",
    "image_size = (img_height, img_width),\n",
    "batch_size = batch_size)\n",
    "\n",
    "val_ds1 = tf.keras.utils.image_dataset_from_directory(\n",
    "data1_dir,\n",
    "validation_split=validation_split,\n",
    "subset=\"validation\",\n",
    "seed=model_seed,\n",
    "image_size=(img_height, img_width),\n",
    "batch_size=batch_size)"
   ]
  },
  {
   "cell_type": "code",
   "execution_count": 6,
   "metadata": {},
   "outputs": [
    {
     "name": "stdout",
     "output_type": "stream",
     "text": [
      "Found 20000 files belonging to 2 classes.\n",
      "Using 16000 files for training.\n",
      "Found 20000 files belonging to 2 classes.\n",
      "Using 4000 files for validation.\n"
     ]
    }
   ],
   "source": [
    "#Datasets for training from 2nd dataset\n",
    "\n",
    "train_ds2 = tf.keras.utils.image_dataset_from_directory(\n",
    "data2_dir,\n",
    "validation_split=validation_split,\n",
    "subset=\"training\",\n",
    "seed=model_seed,\n",
    "image_size = (img_height, img_width),\n",
    "batch_size = batch_size)\n",
    "\n",
    "val_ds2 = tf.keras.utils.image_dataset_from_directory(\n",
    "data2_dir,\n",
    "validation_split=validation_split,\n",
    "subset=\"validation\",\n",
    "seed=model_seed,\n",
    "image_size=(img_height, img_width),\n",
    "batch_size=batch_size)"
   ]
  },
  {
   "cell_type": "code",
   "execution_count": 7,
   "metadata": {},
   "outputs": [
    {
     "name": "stdout",
     "output_type": "stream",
     "text": [
      "Found 2041 files belonging to 2 classes.\n",
      "Using 1633 files for training.\n",
      "Found 2041 files belonging to 2 classes.\n",
      "Using 408 files for validation.\n"
     ]
    }
   ],
   "source": [
    "#Datasets for training from 3rd dataset\n",
    "\n",
    "train_ds3 = tf.keras.utils.image_dataset_from_directory(\n",
    "data3_dir,\n",
    "validation_split=validation_split,\n",
    "subset=\"training\",\n",
    "seed=model_seed,\n",
    "image_size = (img_height, img_width),\n",
    "batch_size = batch_size)\n",
    "\n",
    "val_ds3 = tf.keras.utils.image_dataset_from_directory(\n",
    "data3_dir,\n",
    "validation_split=validation_split,\n",
    "subset=\"validation\",\n",
    "seed=model_seed,\n",
    "image_size=(img_height, img_width),\n",
    "batch_size=batch_size)"
   ]
  },
  {
   "cell_type": "code",
   "execution_count": 8,
   "metadata": {},
   "outputs": [],
   "source": [
    "train_ds4 = train_ds1.concatenate(train_ds2).concatenate(train_ds3)\n",
    "val_ds4 = val_ds1.concatenate(val_ds2).concatenate(train_ds3)"
   ]
  },
  {
   "cell_type": "code",
   "execution_count": 9,
   "metadata": {},
   "outputs": [
    {
     "name": "stdout",
     "output_type": "stream",
     "text": [
      "Found 14029 files belonging to 2 classes.\n"
     ]
    }
   ],
   "source": [
    "test_ds = tf.keras.utils.image_dataset_from_directory(\n",
    "    test_data_dir,\n",
    "    image_size = (img_height, img_width),\n",
    "    batch_size = batch_size\n",
    ")"
   ]
  },
  {
   "cell_type": "code",
   "execution_count": 10,
   "metadata": {},
   "outputs": [],
   "source": [
    "AUTOTUNE = tf.data.AUTOTUNE\n",
    "train_ds1 = train_ds1.cache().shuffle(1000).prefetch(buffer_size=AUTOTUNE)\n",
    "val_ds1 = val_ds1.cache().prefetch(buffer_size=AUTOTUNE)"
   ]
  },
  {
   "cell_type": "code",
   "execution_count": 11,
   "metadata": {},
   "outputs": [],
   "source": [
    "AUTOTUNE = tf.data.AUTOTUNE\n",
    "train_ds2 = train_ds2.cache().shuffle(1000).prefetch(buffer_size=AUTOTUNE)\n",
    "val_ds2 = val_ds2.cache().prefetch(buffer_size=AUTOTUNE)"
   ]
  },
  {
   "cell_type": "code",
   "execution_count": 12,
   "metadata": {},
   "outputs": [],
   "source": [
    "AUTOTUNE = tf.data.AUTOTUNE\n",
    "train_ds3 = train_ds3.cache().shuffle(1000).prefetch(buffer_size=AUTOTUNE)\n",
    "val_ds3 = val_ds3.cache().prefetch(buffer_size=AUTOTUNE)"
   ]
  },
  {
   "cell_type": "code",
   "execution_count": 13,
   "metadata": {},
   "outputs": [],
   "source": [
    "AUTOTUNE = tf.data.AUTOTUNE\n",
    "train_ds4 = train_ds4.cache().shuffle(1000).prefetch(buffer_size=AUTOTUNE)\n",
    "val_ds4 = val_ds4.cache().prefetch(buffer_size=AUTOTUNE)"
   ]
  },
  {
   "cell_type": "code",
   "execution_count": 14,
   "metadata": {},
   "outputs": [],
   "source": [
    "class_names = ['fake', 'real']\n",
    "\n",
    "num_classes = len(class_names)\n",
    "\n",
    "model = Sequential([\n",
    "  layers.Rescaling(1./255, input_shape=(img_height, img_width, 3)),\n",
    "  layers.Conv2D(16, 3, padding='same', activation='relu'),\n",
    "  layers.MaxPooling2D(),\n",
    "  layers.Conv2D(32, 3, padding='same', activation='relu'),\n",
    "  layers.MaxPooling2D(),\n",
    "  layers.Conv2D(64, 3, padding='same', activation='relu'),\n",
    "  layers.MaxPooling2D(),\n",
    "  layers.Flatten(),\n",
    "  layers.Dense(128, activation='sigmoid'),\n",
    "  layers.Dense(128, activation='relu'),\n",
    "  layers.Dense(128, activation='sigmoid'),\n",
    "  layers.Dense(128, activation='relu'),\n",
    "  layers.Dense(num_classes)\n",
    "])\n",
    "\n",
    "#ADAM, RMSProp, SGD tested\n",
    "model.compile(optimizer='RMSprop',\n",
    "              loss=tf.keras.losses.SparseCategoricalCrossentropy(from_logits=True),\n",
    "              metrics=['accuracy'])\n",
    "\n",
    "#model.summary()\n"
   ]
  },
  {
   "cell_type": "code",
   "execution_count": 15,
   "metadata": {
    "scrolled": false
   },
   "outputs": [
    {
     "name": "stdout",
     "output_type": "stream",
     "text": [
      "Epoch 1/12\n",
      "585/585 [==============================] - 23s 25ms/step - loss: 0.6772 - accuracy: 0.5638 - val_loss: 0.6199 - val_accuracy: 0.6521\n",
      "Epoch 2/12\n",
      "585/585 [==============================] - 13s 22ms/step - loss: 0.5651 - accuracy: 0.7123 - val_loss: 0.6271 - val_accuracy: 0.6907\n",
      "Epoch 3/12\n",
      "585/585 [==============================] - 12s 21ms/step - loss: 0.4810 - accuracy: 0.7735 - val_loss: 0.5626 - val_accuracy: 0.7324\n",
      "Epoch 4/12\n",
      "585/585 [==============================] - 12s 21ms/step - loss: 0.3815 - accuracy: 0.8314 - val_loss: 0.4551 - val_accuracy: 0.7795\n",
      "Epoch 5/12\n",
      "585/585 [==============================] - 12s 21ms/step - loss: 0.2829 - accuracy: 0.8837 - val_loss: 0.4399 - val_accuracy: 0.8132\n",
      "Epoch 6/12\n",
      "585/585 [==============================] - 12s 21ms/step - loss: 0.1945 - accuracy: 0.9252 - val_loss: 0.3567 - val_accuracy: 0.8557\n",
      "Epoch 7/12\n",
      "585/585 [==============================] - 12s 21ms/step - loss: 0.1299 - accuracy: 0.9521 - val_loss: 0.3925 - val_accuracy: 0.8711\n",
      "Epoch 8/12\n",
      "585/585 [==============================] - 12s 21ms/step - loss: 0.0890 - accuracy: 0.9687 - val_loss: 0.3427 - val_accuracy: 0.8844\n",
      "Epoch 9/12\n",
      "585/585 [==============================] - 12s 21ms/step - loss: 0.0603 - accuracy: 0.9801 - val_loss: 0.4150 - val_accuracy: 0.8886\n",
      "Epoch 10/12\n",
      "585/585 [==============================] - 12s 21ms/step - loss: 0.0460 - accuracy: 0.9847 - val_loss: 0.5600 - val_accuracy: 0.8727\n",
      "Epoch 11/12\n",
      "585/585 [==============================] - 12s 21ms/step - loss: 0.0427 - accuracy: 0.9876 - val_loss: 0.4678 - val_accuracy: 0.8896\n",
      "Epoch 12/12\n",
      "585/585 [==============================] - 12s 21ms/step - loss: 0.0402 - accuracy: 0.9884 - val_loss: 0.6379 - val_accuracy: 0.8523\n"
     ]
    }
   ],
   "source": [
    "epochs=12\n",
    "\n",
    "#Change train and val sets depending on datarun\n",
    "history = model.fit(\n",
    "  train_ds4,\n",
    "  validation_data=val_ds4,\n",
    "  epochs=epochs\n",
    ")\n"
   ]
  },
  {
   "cell_type": "code",
   "execution_count": 16,
   "metadata": {
    "scrolled": false
   },
   "outputs": [
    {
     "data": {
      "image/png": "[encoded data removed]",
      "text/plain": [
       "<Figure size 576x576 with 2 Axes>"
      ]
     },
     "metadata": {
      "needs_background": "light"
     },
     "output_type": "display_data"
    }
   ],
   "source": [
    "acc = history.history['accuracy']\n",
    "val_acc = history.history['val_accuracy']\n",
    "\n",
    "loss = history.history['loss']\n",
    "val_loss = history.history['val_loss']\n",
    "\n",
    "epochs_range = range(epochs)\n",
    "\n",
    "plt.figure(figsize=(8, 8))\n",
    "plt.subplot(1, 2, 1)\n",
    "plt.plot(epochs_range, acc, label='Training Accuracy')\n",
    "plt.plot(epochs_range, val_acc, label='Validation Accuracy')\n",
    "plt.legend(loc='lower right')\n",
    "plt.title('Training and Validation Accuracy')\n",
    "\n",
    "plt.subplot(1, 2, 2)\n",
    "plt.plot(epochs_range, loss, label='Training Loss')\n",
    "plt.plot(epochs_range, val_loss, label='Validation Loss')\n",
    "plt.legend(loc='upper right')\n",
    "plt.title('Training and Validation Loss')\n",
    "plt.show()\n"
   ]
  },
  {
   "cell_type": "code",
   "execution_count": 17,
   "metadata": {},
   "outputs": [
    {
     "name": "stdout",
     "output_type": "stream",
     "text": [
      "9/9 [==============================] - 0s 10ms/step - loss: 0.2652 - accuracy: 0.9300\n",
      "125/125 [==============================] - 2s 16ms/step - loss: 0.8659 - accuracy: 0.8055\n",
      "13/13 [==============================] - 0s 17ms/step - loss: 2.2397 - accuracy: 0.5319\n",
      "186/186 [==============================] - 2s 10ms/step - loss: 0.6379 - accuracy: 0.8523\n",
      "439/439 [==============================] - 8s 17ms/step - loss: 4.0845 - accuracy: 0.2008\n"
     ]
    }
   ],
   "source": [
    "predictions = model.evaluate(val_ds1)\n",
    "predictions = model.evaluate(val_ds2)\n",
    "predictions = model.evaluate(val_ds3)\n",
    "predictions = model.evaluate(val_ds4)\n",
    "predictions = model.evaluate(test_ds)"
   ]
  }
 ],
 "metadata": {
  "interpreter": {
   "hash": "68be6dbf1ea8149986bbde7ff4c399d99d1de694bb505c94b0c1b98bbed426d3"
  },
  "kernelspec": {
   "display_name": "Python 3 (ipykernel)",
   "language": "python",
   "name": "python3"
  },
  "language_info": {
   "codemirror_mode": {
    "name": "ipython",
    "version": 3
   },
   "file_extension": ".py",
   "mimetype": "text/x-python",
   "name": "python",
   "nbconvert_exporter": "python",
   "pygments_lexer": "ipython3",
   "version": "3.9.7"
  }
 },
 "nbformat": 4,
 "nbformat_minor": 2
}
