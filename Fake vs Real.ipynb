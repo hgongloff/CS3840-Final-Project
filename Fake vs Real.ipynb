{
 "cells": [
  {
   "cell_type": "code",
   "execution_count": 1,
   "metadata": {},
   "outputs": [],
   "source": [
    "import matplotlib.pyplot as plt\n",
    "import numpy as np\n",
    "import os\n",
    "import PIL\n",
    "import tensorflow as tf\n",
    "\n",
    "from tensorflow import keras\n",
    "from tensorflow.keras import layers\n",
    "from tensorflow.keras.models import Sequential"
   ]
  },
  {
   "cell_type": "code",
   "execution_count": 2,
   "metadata": {},
   "outputs": [
    {
     "name": "stdout",
     "output_type": "stream",
     "text": [
      "Num GPUs Available:  1\n"
     ]
    }
   ],
   "source": [
    "#Verify gpu is being used\n",
    "print(\"Num GPUs Available: \", len(tf.config.list_physical_devices('GPU')))"
   ]
  },
  {
   "cell_type": "code",
   "execution_count": 3,
   "metadata": {},
   "outputs": [
    {
     "name": "stdout",
     "output_type": "stream",
     "text": [
      "C:\\Users\\mcs52\\Desktop\\CS3840-Final-Project\\datasets\n",
      "C:\\Users\\mcs52\\Desktop\\CS3840-Final-Project\\datasets\\data1\n",
      "C:\\Users\\mcs52\\Desktop\\CS3840-Final-Project\\datasets\\data2\n",
      "C:\\Users\\mcs52\\Desktop\\CS3840-Final-Project\\datasets\\data3\n"
     ]
    }
   ],
   "source": [
    "#Paths to datasets\n",
    "import pathlib\n",
    "data_dir = pathlib.Path(pathlib.Path.cwd()) / \"datasets\"\n",
    "data1_dir = data_dir / \"data1\"\n",
    "data2_dir = data_dir / \"data2\"\n",
    "data3_dir = data_dir / \"data3\"\n",
    "print(data_dir)\n",
    "print(data1_dir)\n",
    "print(data2_dir)\n",
    "print(data3_dir)"
   ]
  },
  {
   "cell_type": "code",
   "execution_count": 4,
   "metadata": {},
   "outputs": [],
   "source": [
    "#Parameters for datasets\n",
    "batch_size = 32\n",
    "img_height = 256\n",
    "img_width = 256\n",
    "model_seed = 5151\n",
    "validation_split = .5"
   ]
  },
  {
   "cell_type": "code",
   "execution_count": 5,
   "metadata": {},
   "outputs": [
    {
     "name": "stdout",
     "output_type": "stream",
     "text": [
      "Found 1289 files belonging to 2 classes.\n",
      "Using 645 files for training.\n",
      "Found 1289 files belonging to 2 classes.\n",
      "Using 644 files for validation.\n"
     ]
    }
   ],
   "source": [
    "#Datasets for training from 1st dataset\n",
    "\n",
    "train_ds1 = tf.keras.utils.image_dataset_from_directory(\n",
    "data1_dir,\n",
    "validation_split=validation_split,\n",
    "subset=\"training\",\n",
    "seed=model_seed,\n",
    "image_size = (img_height, img_width),\n",
    "batch_size = batch_size)\n",
    "\n",
    "val_ds1 = tf.keras.utils.image_dataset_from_directory(\n",
    "data1_dir,\n",
    "validation_split=validation_split,\n",
    "subset=\"validation\",\n",
    "seed=model_seed,\n",
    "image_size=(img_height, img_width),\n",
    "batch_size=batch_size)"
   ]
  },
  {
   "cell_type": "code",
   "execution_count": 6,
   "metadata": {},
   "outputs": [
    {
     "name": "stdout",
     "output_type": "stream",
     "text": [
      "Found 20000 files belonging to 2 classes.\n",
      "Using 10000 files for training.\n",
      "Found 20000 files belonging to 2 classes.\n",
      "Using 10000 files for validation.\n"
     ]
    }
   ],
   "source": [
    "#Datasets for training from 2nd dataset\n",
    "\n",
    "train_ds2 = tf.keras.utils.image_dataset_from_directory(\n",
    "data2_dir,\n",
    "validation_split=validation_split,\n",
    "subset=\"training\",\n",
    "seed=model_seed,\n",
    "image_size = (img_height, img_width),\n",
    "batch_size = batch_size)\n",
    "\n",
    "val_ds2 = tf.keras.utils.image_dataset_from_directory(\n",
    "data2_dir,\n",
    "validation_split=validation_split,\n",
    "subset=\"validation\",\n",
    "seed=model_seed,\n",
    "image_size=(img_height, img_width),\n",
    "batch_size=batch_size)"
   ]
  },
  {
   "cell_type": "code",
   "execution_count": 7,
   "metadata": {},
   "outputs": [
    {
     "name": "stdout",
     "output_type": "stream",
     "text": [
      "Found 2041 files belonging to 2 classes.\n",
      "Using 1021 files for training.\n",
      "Found 2041 files belonging to 2 classes.\n",
      "Using 1020 files for validation.\n"
     ]
    }
   ],
   "source": [
    "#Datasets for training from 3rd dataset\n",
    "\n",
    "train_ds3 = tf.keras.utils.image_dataset_from_directory(\n",
    "data3_dir,\n",
    "validation_split=validation_split,\n",
    "subset=\"training\",\n",
    "seed=model_seed,\n",
    "image_size = (img_height, img_width),\n",
    "batch_size = batch_size)\n",
    "\n",
    "val_ds3 = tf.keras.utils.image_dataset_from_directory(\n",
    "data3_dir,\n",
    "validation_split=validation_split,\n",
    "subset=\"validation\",\n",
    "seed=model_seed,\n",
    "image_size=(img_height, img_width),\n",
    "batch_size=batch_size)"
   ]
  },
  {
   "cell_type": "code",
   "execution_count": null,
   "metadata": {},
   "outputs": [],
   "source": [
    "#TODO TAKE SLICES FROM TRAINING DATASETS AND CREATE NEW COMBINED DATASET\n",
    "#TODO TAKE SLICES FROM VALIDATION DATASETS AND CREATE NEW COMBINED DATASET"
   ]
  },
  {
   "cell_type": "code",
   "execution_count": 8,
   "metadata": {},
   "outputs": [],
   "source": [
    "AUTOTUNE = tf.data.AUTOTUNE\n",
    "\n",
    "train_ds1 = train_ds1.cache().shuffle(1000).prefetch(buffer_size=AUTOTUNE)\n",
    "val_ds1 = val_ds1.cache().prefetch(buffer_size=AUTOTUNE)"
   ]
  },
  {
   "cell_type": "code",
   "execution_count": 9,
   "metadata": {},
   "outputs": [],
   "source": [
    "AUTOTUNE = tf.data.AUTOTUNE\n",
    "\n",
    "train_ds2 = train_ds2.cache().shuffle(1000).prefetch(buffer_size=AUTOTUNE)\n",
    "val_ds2 = val_ds2.cache().prefetch(buffer_size=AUTOTUNE)"
   ]
  },
  {
   "cell_type": "code",
   "execution_count": 10,
   "metadata": {},
   "outputs": [],
   "source": [
    "AUTOTUNE = tf.data.AUTOTUNE\n",
    "\n",
    "train_ds3 = train_ds3.cache().shuffle(1000).prefetch(buffer_size=AUTOTUNE)\n",
    "val_ds3 = val_ds3.cache().prefetch(buffer_size=AUTOTUNE)\n",
    "\n"
   ]
  },
  {
   "cell_type": "code",
   "execution_count": null,
   "metadata": {},
   "outputs": [],
   "source": [
    "#TODO AUTOTUNE SPLICED DATASET\n",
    "\n",
    "#AUTOTUNE = tf.data.AUTOTUNE\n",
    "\n",
    "#train_ds4 = train_ds4.cache().shuffle(1000).prefetch(buffer_size=AUTOTUNE)\n",
    "val_ds4 = val_ds4.cache().prefetch(buffer_size=AUTOTUNE)"
   ]
  },
  {
   "cell_type": "code",
   "execution_count": 11,
   "metadata": {},
   "outputs": [],
   "source": [
    "class_names = ['fake', 'real']\n",
    "\n",
    "num_classes = len(class_names)\n",
    "\n",
    "#EDIT MODEL TO FIND EFFECTIVE VERSION\n",
    "model = Sequential([\n",
    "  layers.Rescaling(1./255, input_shape=(img_height, img_width, 3)),\n",
    "  layers.Conv2D(16, 3, padding='same', activation='relu'),\n",
    "  layers.MaxPooling2D(),\n",
    "  layers.Conv2D(32, 3, padding='same', activation='relu'),\n",
    "  layers.MaxPooling2D(),\n",
    "  layers.Conv2D(64, 3, padding='same', activation='relu'),\n",
    "  layers.MaxPooling2D(),\n",
    "  layers.Flatten(),\n",
    "  layers.Dense(128, activation='relu'),\n",
    "  layers.Dense(num_classes)\n",
    "])\n"
   ]
  },
  {
   "cell_type": "code",
   "execution_count": 12,
   "metadata": {},
   "outputs": [],
   "source": [
    "#Look at parameters and potentially change\n",
    "model.compile(optimizer='adam',\n",
    "              loss=tf.keras.losses.SparseCategoricalCrossentropy(from_logits=True),\n",
    "              metrics=['accuracy'])\n"
   ]
  },
  {
   "cell_type": "code",
   "execution_count": 13,
   "metadata": {},
   "outputs": [
    {
     "name": "stdout",
     "output_type": "stream",
     "text": [
      "Model: \"sequential\"\n",
      "_________________________________________________________________\n",
      " Layer (type)                Output Shape              Param #   \n",
      "=================================================================\n",
      " rescaling (Rescaling)       (None, 256, 256, 3)       0         \n",
      "                                                                 \n",
      " conv2d (Conv2D)             (None, 256, 256, 16)      448       \n",
      "                                                                 \n",
      " max_pooling2d (MaxPooling2D  (None, 128, 128, 16)     0         \n",
      " )                                                               \n",
      "                                                                 \n",
      " conv2d_1 (Conv2D)           (None, 128, 128, 32)      4640      \n",
      "                                                                 \n",
      " max_pooling2d_1 (MaxPooling  (None, 64, 64, 32)       0         \n",
      " 2D)                                                             \n",
      "                                                                 \n",
      " conv2d_2 (Conv2D)           (None, 64, 64, 64)        18496     \n",
      "                                                                 \n",
      " max_pooling2d_2 (MaxPooling  (None, 32, 32, 64)       0         \n",
      " 2D)                                                             \n",
      "                                                                 \n",
      " flatten (Flatten)           (None, 65536)             0         \n",
      "                                                                 \n",
      " dense (Dense)               (None, 4000)              262148000 \n",
      "                                                                 \n",
      " dense_1 (Dense)             (None, 4000)              16004000  \n",
      "                                                                 \n",
      " dense_2 (Dense)             (None, 4000)              16004000  \n",
      "                                                                 \n",
      " dense_3 (Dense)             (None, 4000)              16004000  \n",
      "                                                                 \n",
      " dense_4 (Dense)             (None, 2)                 8002      \n",
      "                                                                 \n",
      "=================================================================\n",
      "Total params: 310,191,586\n",
      "Trainable params: 310,191,586\n",
      "Non-trainable params: 0\n",
      "_________________________________________________________________\n"
     ]
    }
   ],
   "source": [
    "model.summary()\n"
   ]
  },
  {
   "cell_type": "code",
   "execution_count": 16,
   "metadata": {
    "scrolled": false
   },
   "outputs": [
    {
     "name": "stdout",
     "output_type": "stream",
     "text": [
      "Epoch 1/10\n",
      "313/313 [==============================] - 31s 92ms/step - loss: 0.7006 - accuracy: 0.5638 - val_loss: 0.5910 - val_accuracy: 0.6935\n",
      "Epoch 2/10\n",
      "313/313 [==============================] - 28s 89ms/step - loss: 0.5674 - accuracy: 0.7084 - val_loss: 0.5423 - val_accuracy: 0.7350\n",
      "Epoch 3/10\n",
      "313/313 [==============================] - 29s 91ms/step - loss: 0.4386 - accuracy: 0.8029 - val_loss: 0.5151 - val_accuracy: 0.7557\n",
      "Epoch 4/10\n",
      "313/313 [==============================] - 29s 91ms/step - loss: 0.2973 - accuracy: 0.8731 - val_loss: 0.6003 - val_accuracy: 0.7500\n",
      "Epoch 5/10\n",
      "313/313 [==============================] - 28s 90ms/step - loss: 0.2131 - accuracy: 0.9096 - val_loss: 0.6577 - val_accuracy: 0.7683\n",
      "Epoch 6/10\n",
      "313/313 [==============================] - 28s 91ms/step - loss: 0.1298 - accuracy: 0.9532 - val_loss: 0.8815 - val_accuracy: 0.7818\n",
      "Epoch 7/10\n",
      "313/313 [==============================] - 28s 90ms/step - loss: 0.0927 - accuracy: 0.9669 - val_loss: 0.8527 - val_accuracy: 0.7649\n",
      "Epoch 8/10\n",
      "313/313 [==============================] - 29s 94ms/step - loss: 0.0615 - accuracy: 0.9803 - val_loss: 0.9981 - val_accuracy: 0.7598\n",
      "Epoch 9/10\n",
      "313/313 [==============================] - 29s 92ms/step - loss: 0.0409 - accuracy: 0.9867 - val_loss: 0.9522 - val_accuracy: 0.7665\n",
      "Epoch 10/10\n",
      "313/313 [==============================] - 30s 95ms/step - loss: 0.0315 - accuracy: 0.9895 - val_loss: 1.5459 - val_accuracy: 0.7756\n"
     ]
    }
   ],
   "source": [
    "epochs=10\n",
    "\n",
    "#Change train and val sets depending on datarun\n",
    "history = model.fit(\n",
    "  train_ds2,\n",
    "  validation_data=val_ds2,\n",
    "  epochs=epochs\n",
    ")\n"
   ]
  },
  {
   "cell_type": "code",
   "execution_count": 15,
   "metadata": {},
   "outputs": [
    {
     "data": {
      "image/png": "[encoded data removed]",
      "text/plain": [
       "<Figure size 576x576 with 2 Axes>"
      ]
     },
     "metadata": {
      "needs_background": "light"
     },
     "output_type": "display_data"
    }
   ],
   "source": [
    "acc = history.history['accuracy']\n",
    "val_acc = history.history['val_accuracy']\n",
    "\n",
    "loss = history.history['loss']\n",
    "val_loss = history.history['val_loss']\n",
    "\n",
    "epochs_range = range(epochs)\n",
    "\n",
    "plt.figure(figsize=(8, 8))\n",
    "plt.subplot(1, 2, 1)\n",
    "plt.plot(epochs_range, acc, label='Training Accuracy')\n",
    "plt.plot(epochs_range, val_acc, label='Validation Accuracy')\n",
    "plt.legend(loc='lower right')\n",
    "plt.title('Training and Validation Accuracy')\n",
    "\n",
    "plt.subplot(1, 2, 2)\n",
    "plt.plot(epochs_range, loss, label='Training Loss')\n",
    "plt.plot(epochs_range, val_loss, label='Validation Loss')\n",
    "plt.legend(loc='upper right')\n",
    "plt.title('Training and Validation Loss')\n",
    "plt.show()\n"
   ]
  }
 ],
 "metadata": {
  "interpreter": {
   "hash": "68be6dbf1ea8149986bbde7ff4c399d99d1de694bb505c94b0c1b98bbed426d3"
  },
  "kernelspec": {
   "display_name": "Python 3 (ipykernel)",
   "language": "python",
   "name": "python3"
  },
  "language_info": {
   "codemirror_mode": {
    "name": "ipython",
    "version": 3
   },
   "file_extension": ".py",
   "mimetype": "text/x-python",
   "name": "python",
   "nbconvert_exporter": "python",
   "pygments_lexer": "ipython3",
   "version": "3.9.7"
  }
 },
 "nbformat": 4,
 "nbformat_minor": 2
}
